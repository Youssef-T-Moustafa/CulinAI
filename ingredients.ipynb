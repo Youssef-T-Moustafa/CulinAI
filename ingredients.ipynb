{
 "cells": [
  {
   "cell_type": "code",
   "execution_count": null,
   "metadata": {},
   "outputs": [],
   "source": [
    "#%pip install pandas\n",
    "import pandas as pd\n",
    "\n",
    "df = pd.read_csv(\"recipes.csv\")\n",
    "\n",
    "df.head()"
   ]
  },
  {
   "cell_type": "code",
   "execution_count": null,
   "metadata": {},
   "outputs": [],
   "source": [
    "df['RecipeIngredientParts']"
   ]
  },
  {
   "cell_type": "code",
   "execution_count": null,
   "metadata": {},
   "outputs": [],
   "source": [
    "df['RecipeIngredientParts'] = df['RecipeIngredientParts'].apply(lambda x: x.strip(\"[]\").split(\",\") if isinstance(x, str) else [])\n",
    "df['RecipeIngredientParts'] = df['RecipeIngredientParts'].apply(lambda x: [ingredient.strip().lower() for ingredient in x])\n",
    "df['combined_ingredients'] = df['RecipeIngredientParts'].apply(lambda x: ' '.join(x))\n"
   ]
  },
  {
   "cell_type": "code",
   "execution_count": null,
   "metadata": {},
   "outputs": [],
   "source": [
    "search_ingredients = ['flour', 'sugar', 'eggs', 'chicken']\n",
    "\n",
    "# Filter rows based on the presence of all search ingredients\n",
    "filtered_df = df[df['combined_ingredients'].apply(lambda x: all(ingredient in x for ingredient in search_ingredients))]\n",
    "\n",
    "# Display the recipes containing the specified ingredient combination\n",
    "print(filtered_df)\n"
   ]
  }
 ],
 "metadata": {
  "language_info": {
   "name": "python"
  }
 },
 "nbformat": 4,
 "nbformat_minor": 2
}
